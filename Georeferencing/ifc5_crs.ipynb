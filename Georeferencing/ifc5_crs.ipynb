{
 "cells": [
  {
   "cell_type": "code",
   "execution_count": 1,
   "metadata": {},
   "outputs": [],
   "source": [
    "import json\n",
    "\n",
    "from pyproj import CRS, Transformer"
   ]
  },
  {
   "cell_type": "markdown",
   "metadata": {},
   "source": [
    "# CRS Objects in IFC 5\n",
    "\n",
    "Coordinate Reference Systems (CRS') can be defined using the Well-Known Text representation of Coordinate Reference Systems (WKT-CRS | [Wikipedia](http://en.wikipedia.org/wiki/Well-known_text_representation_of_coordinate_reference_systems) | [OGC Specification](https://docs.ogc.org/is/18-010r7/18-010r7.html)). This representation of CRS' is also an ISO standard: ISO 19162:2019.\n",
    "\n",
    "Notes from the Wikipedia WKT-CRS \"Version history\" section:\n",
    "\n",
    ">  Confusingly, the original 2015 \"WKT 2\" standard has a version number 1 for the new, stricter WKT-CRS specification. A newer revision called WKT-CRS 2 was published in 2018, with the ISO version being ISO 19162:2019.\n",
    "\n",
    "> ESRI vs OGC  \n",
    "> ... some databases differentiate between \"OGC WKT\" and \"ESRI WKT\" representations. The problem is largely resolved in WKT[-CRS] 2, as it is better-defined.\n",
    "\n",
    "These differences in how WKT strings are also clear from the export section when looking up a CRS on [epsg.io](https://epsg.io). For example, have a look at the differences between the \"OGC WKT\", \"OGC WKT 2\" and \"ESRI WKT\" results in the export section at the bottom of the [epsg.io/2193](https://epsg.io/2193) page."
   ]
  },
  {
   "cell_type": "code",
   "execution_count": 2,
   "metadata": {},
   "outputs": [],
   "source": [
    "weka_hills_crs = CRS(2193)"
   ]
  },
  {
   "cell_type": "code",
   "execution_count": 3,
   "metadata": {},
   "outputs": [],
   "source": [
    "ifc5_wkt_crs = [\n",
    "    {\n",
    "        \"def\": \"def\",\n",
    "        \"name\": \"urn:ogc:def:crs:EPSG::2193\",\n",
    "        \"comment\": \"The name of this object is an OGC Uniform Resource Name.\",\n",
    "        \"type\": \"crs\",\n",
    "        \"attributes\": {\n",
    "            \"WKT-CRS\": {\n",
    "                \"ISO\": \"ISO 19162:2019\",\n",
    "                \"wkt\": weka_hills_crs.to_wkt(),\n",
    "                \"name\": weka_hills_crs.name,\n",
    "                \"authority_id\": f\"EPSG:{weka_hills_crs.to_authority()[1]}\",\n",
    "                \"units\": \"m\",\n",
    "                \"offset_x\": 0,\n",
    "                \"offset_y\": 0,\n",
    "                \"offset_z\": 0,\n",
    "                \"rotation\": 0,\n",
    "            }\n",
    "        },\n",
    "    },\n",
    "    {\n",
    "        \"def\": \"over\",\n",
    "        \"name\": \"Nad68cd145a6b43fdb0232e0b11a6c7bc\",\n",
    "        \"comment\": \"Assigns urn:ogc:def:crs:EPSG::2193 to the instance of borehole WH_009\",\n",
    "        \"attributes\": {\"crs\": {\"ref\": \"</urn:ogc:def:crs:EPSG::2193>\"}},\n",
    "    },\n",
    "    {\n",
    "        \"def\": \"over\",\n",
    "        \"name\": \"N996ff9e7b86240f898d4d038ab311d1b\",\n",
    "        \"comment\": \"Assigns urn:ogc:def:crs:EPSG::2193 to the instance of borehole WH_012\",\n",
    "        \"attributes\": {\"crs\": {\"ref\": \"</urn:ogc:def:crs:EPSG::2193>\"}},\n",
    "    },\n",
    "    {\n",
    "        \"def\": \"over\",\n",
    "        \"name\": \"N25dbbae886194be6b469e4f17f0b605c\",\n",
    "        \"comment\": \"Assigns urn:ogc:def:crs:EPSG::2193 to the instance of the GeologyModel\",\n",
    "        \"attributes\": {\"crs\": {\"ref\": \"</urn:ogc:def:crs:EPSG::2193>\"}},\n",
    "    },\n",
    "]\n",
    "\n",
    "with open(\"WekaHills_CRS_EPSG2193.ifcx\", \"w\") as json_file:\n",
    "    json.dump(ifc5_wkt_crs, json_file, indent=2)"
   ]
  },
  {
   "cell_type": "markdown",
   "metadata": {},
   "source": [
    "Longitude is the x-coordinate or east-west coordinate on earth expressed in 0 to 180 degrees east or west of the Greenwich prime meridian or in -180 to 180 degrees relative to the Greenwich prime meridian.\n",
    "\n",
    "Latitude is the y-coordinate or north-south coordinate on earth expressed in 0 to 90 north or south of the equator or in -90 to 90 degrees relative to the equator.\n",
    "\n",
    "Historically, coordinates on earth are denoted (Latitude, Longitude), because it was easier to determine the north-south position than the east-west position. This because the north-south position can be determined from the sun, stars and other heavenly bodies, whereas one need to accurately know the time in order to determine the east-west position.\n",
    "\n",
    "Nowadays, especially on the web, it's common to write coordinates on earth in [Longitude, Latitude], because we commonly write down coordinates [x, y]."
   ]
  },
  {
   "cell_type": "code",
   "execution_count": 4,
   "metadata": {},
   "outputs": [
    {
     "name": "stdout",
     "output_type": "stream",
     "text": [
      "167.39635621841134 -46.01646668657133\n"
     ]
    }
   ],
   "source": [
    "transformer = Transformer.from_crs(weka_hills_crs, 4326, always_xy=True)\n",
    "lon, lat = transformer.transform(1166250.104, 4888836.859)\n",
    "engineering_crs_wkt = f'PROJCS[\"SpeckleCRS_latlon_{lat}_{lon}\", GEOGCS[\"GCS_WGS_1984\", DATUM[\"D_WGS_1984\", SPHEROID[\"WGS_1984\", 6378137.0, 298.257223563]], PRIMEM[\"Greenwich\", 0.0], UNIT[\"Degree\", 0.0174532925199433]], PROJECTION[\"Transverse_Mercator\"], PARAMETER[\"False_Easting\", 0.0], PARAMETER[\"False_Northing\", 0.0], PARAMETER[\"Central_Meridian\", {lon}], PARAMETER[\"Scale_Factor\", 1.0], PARAMETER[\"Latitude_Of_Origin\", {lat}], UNIT[\"Meter\", 1.0]]'\n",
    "print(lon, lat)"
   ]
  }
 ],
 "metadata": {
  "kernelspec": {
   "display_name": ".venv",
   "language": "python",
   "name": "python3"
  },
  "language_info": {
   "codemirror_mode": {
    "name": "ipython",
    "version": 3
   },
   "file_extension": ".py",
   "mimetype": "text/x-python",
   "name": "python",
   "nbconvert_exporter": "python",
   "pygments_lexer": "ipython3",
   "version": "3.13.0"
  }
 },
 "nbformat": 4,
 "nbformat_minor": 2
}
